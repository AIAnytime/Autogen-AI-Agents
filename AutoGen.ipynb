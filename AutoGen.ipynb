{
  "nbformat": 4,
  "nbformat_minor": 0,
  "metadata": {
    "colab": {
      "provenance": []
    },
    "kernelspec": {
      "name": "python3",
      "display_name": "Python 3"
    },
    "language_info": {
      "name": "python"
    }
  },
  "cells": [
    {
      "cell_type": "code",
      "execution_count": 1,
      "metadata": {
        "id": "5kHQ-ub2HmgY",
        "colab": {
          "base_uri": "https://localhost:8080/"
        },
        "outputId": "1ea009ad-29cf-457a-85a9-5baeec6c0c3a"
      },
      "outputs": [
        {
          "output_type": "stream",
          "name": "stdout",
          "text": [
            "Collecting pyautogen\n",
            "  Downloading pyautogen-0.2.33-py3-none-any.whl.metadata (27 kB)\n",
            "Collecting diskcache (from pyautogen)\n",
            "  Downloading diskcache-5.6.3-py3-none-any.whl.metadata (20 kB)\n",
            "Collecting docker (from pyautogen)\n",
            "  Downloading docker-7.1.0-py3-none-any.whl.metadata (3.8 kB)\n",
            "Collecting flaml (from pyautogen)\n",
            "  Downloading FLAML-2.2.0-py3-none-any.whl.metadata (15 kB)\n",
            "Requirement already satisfied: numpy<2,>=1.17.0 in /usr/local/lib/python3.10/dist-packages (from pyautogen) (1.26.4)\n",
            "Collecting openai>=1.3 (from pyautogen)\n",
            "  Downloading openai-1.40.3-py3-none-any.whl.metadata (22 kB)\n",
            "Requirement already satisfied: packaging in /usr/local/lib/python3.10/dist-packages (from pyautogen) (24.1)\n",
            "Requirement already satisfied: pydantic!=2.6.0,<3,>=1.10 in /usr/local/lib/python3.10/dist-packages (from pyautogen) (2.8.2)\n",
            "Collecting python-dotenv (from pyautogen)\n",
            "  Downloading python_dotenv-1.0.1-py3-none-any.whl.metadata (23 kB)\n",
            "Requirement already satisfied: termcolor in /usr/local/lib/python3.10/dist-packages (from pyautogen) (2.4.0)\n",
            "Collecting tiktoken (from pyautogen)\n",
            "  Downloading tiktoken-0.7.0-cp310-cp310-manylinux_2_17_x86_64.manylinux2014_x86_64.whl.metadata (6.6 kB)\n",
            "Requirement already satisfied: anyio<5,>=3.5.0 in /usr/local/lib/python3.10/dist-packages (from openai>=1.3->pyautogen) (3.7.1)\n",
            "Requirement already satisfied: distro<2,>=1.7.0 in /usr/lib/python3/dist-packages (from openai>=1.3->pyautogen) (1.7.0)\n",
            "Collecting httpx<1,>=0.23.0 (from openai>=1.3->pyautogen)\n",
            "  Downloading httpx-0.27.0-py3-none-any.whl.metadata (7.2 kB)\n",
            "Collecting jiter<1,>=0.4.0 (from openai>=1.3->pyautogen)\n",
            "  Downloading jiter-0.5.0-cp310-cp310-manylinux_2_17_x86_64.manylinux2014_x86_64.whl.metadata (3.6 kB)\n",
            "Requirement already satisfied: sniffio in /usr/local/lib/python3.10/dist-packages (from openai>=1.3->pyautogen) (1.3.1)\n",
            "Requirement already satisfied: tqdm>4 in /usr/local/lib/python3.10/dist-packages (from openai>=1.3->pyautogen) (4.66.5)\n",
            "Requirement already satisfied: typing-extensions<5,>=4.11 in /usr/local/lib/python3.10/dist-packages (from openai>=1.3->pyautogen) (4.12.2)\n",
            "Requirement already satisfied: annotated-types>=0.4.0 in /usr/local/lib/python3.10/dist-packages (from pydantic!=2.6.0,<3,>=1.10->pyautogen) (0.7.0)\n",
            "Requirement already satisfied: pydantic-core==2.20.1 in /usr/local/lib/python3.10/dist-packages (from pydantic!=2.6.0,<3,>=1.10->pyautogen) (2.20.1)\n",
            "Requirement already satisfied: requests>=2.26.0 in /usr/local/lib/python3.10/dist-packages (from docker->pyautogen) (2.32.3)\n",
            "Requirement already satisfied: urllib3>=1.26.0 in /usr/local/lib/python3.10/dist-packages (from docker->pyautogen) (2.0.7)\n",
            "Requirement already satisfied: regex>=2022.1.18 in /usr/local/lib/python3.10/dist-packages (from tiktoken->pyautogen) (2024.5.15)\n",
            "Requirement already satisfied: idna>=2.8 in /usr/local/lib/python3.10/dist-packages (from anyio<5,>=3.5.0->openai>=1.3->pyautogen) (3.7)\n",
            "Requirement already satisfied: exceptiongroup in /usr/local/lib/python3.10/dist-packages (from anyio<5,>=3.5.0->openai>=1.3->pyautogen) (1.2.2)\n",
            "Requirement already satisfied: certifi in /usr/local/lib/python3.10/dist-packages (from httpx<1,>=0.23.0->openai>=1.3->pyautogen) (2024.7.4)\n",
            "Collecting httpcore==1.* (from httpx<1,>=0.23.0->openai>=1.3->pyautogen)\n",
            "  Downloading httpcore-1.0.5-py3-none-any.whl.metadata (20 kB)\n",
            "Collecting h11<0.15,>=0.13 (from httpcore==1.*->httpx<1,>=0.23.0->openai>=1.3->pyautogen)\n",
            "  Downloading h11-0.14.0-py3-none-any.whl.metadata (8.2 kB)\n",
            "Requirement already satisfied: charset-normalizer<4,>=2 in /usr/local/lib/python3.10/dist-packages (from requests>=2.26.0->docker->pyautogen) (3.3.2)\n",
            "Downloading pyautogen-0.2.33-py3-none-any.whl (325 kB)\n",
            "\u001b[2K   \u001b[90m━━━━━━━━━━━━━━━━━━━━━━━━━━━━━━━━━━━━━━━━\u001b[0m \u001b[32m325.4/325.4 kB\u001b[0m \u001b[31m10.4 MB/s\u001b[0m eta \u001b[36m0:00:00\u001b[0m\n",
            "\u001b[?25hDownloading openai-1.40.3-py3-none-any.whl (360 kB)\n",
            "\u001b[2K   \u001b[90m━━━━━━━━━━━━━━━━━━━━━━━━━━━━━━━━━━━━━━━━\u001b[0m \u001b[32m360.7/360.7 kB\u001b[0m \u001b[31m17.2 MB/s\u001b[0m eta \u001b[36m0:00:00\u001b[0m\n",
            "\u001b[?25hDownloading diskcache-5.6.3-py3-none-any.whl (45 kB)\n",
            "\u001b[2K   \u001b[90m━━━━━━━━━━━━━━━━━━━━━━━━━━━━━━━━━━━━━━━━\u001b[0m \u001b[32m45.5/45.5 kB\u001b[0m \u001b[31m2.9 MB/s\u001b[0m eta \u001b[36m0:00:00\u001b[0m\n",
            "\u001b[?25hDownloading docker-7.1.0-py3-none-any.whl (147 kB)\n",
            "\u001b[2K   \u001b[90m━━━━━━━━━━━━━━━━━━━━━━━━━━━━━━━━━━━━━━━━\u001b[0m \u001b[32m147.8/147.8 kB\u001b[0m \u001b[31m11.8 MB/s\u001b[0m eta \u001b[36m0:00:00\u001b[0m\n",
            "\u001b[?25hDownloading FLAML-2.2.0-py3-none-any.whl (297 kB)\n",
            "\u001b[2K   \u001b[90m━━━━━━━━━━━━━━━━━━━━━━━━━━━━━━━━━━━━━━━━\u001b[0m \u001b[32m297.2/297.2 kB\u001b[0m \u001b[31m20.6 MB/s\u001b[0m eta \u001b[36m0:00:00\u001b[0m\n",
            "\u001b[?25hDownloading python_dotenv-1.0.1-py3-none-any.whl (19 kB)\n",
            "Downloading tiktoken-0.7.0-cp310-cp310-manylinux_2_17_x86_64.manylinux2014_x86_64.whl (1.1 MB)\n",
            "\u001b[2K   \u001b[90m━━━━━━━━━━━━━━━━━━━━━━━━━━━━━━━━━━━━━━━━\u001b[0m \u001b[32m1.1/1.1 MB\u001b[0m \u001b[31m41.0 MB/s\u001b[0m eta \u001b[36m0:00:00\u001b[0m\n",
            "\u001b[?25hDownloading httpx-0.27.0-py3-none-any.whl (75 kB)\n",
            "\u001b[2K   \u001b[90m━━━━━━━━━━━━━━━━━━━━━━━━━━━━━━━━━━━━━━━━\u001b[0m \u001b[32m75.6/75.6 kB\u001b[0m \u001b[31m5.3 MB/s\u001b[0m eta \u001b[36m0:00:00\u001b[0m\n",
            "\u001b[?25hDownloading httpcore-1.0.5-py3-none-any.whl (77 kB)\n",
            "\u001b[2K   \u001b[90m━━━━━━━━━━━━━━━━━━━━━━━━━━━━━━━━━━━━━━━━\u001b[0m \u001b[32m77.9/77.9 kB\u001b[0m \u001b[31m5.8 MB/s\u001b[0m eta \u001b[36m0:00:00\u001b[0m\n",
            "\u001b[?25hDownloading jiter-0.5.0-cp310-cp310-manylinux_2_17_x86_64.manylinux2014_x86_64.whl (318 kB)\n",
            "\u001b[2K   \u001b[90m━━━━━━━━━━━━━━━━━━━━━━━━━━━━━━━━━━━━━━━━\u001b[0m \u001b[32m318.9/318.9 kB\u001b[0m \u001b[31m20.0 MB/s\u001b[0m eta \u001b[36m0:00:00\u001b[0m\n",
            "\u001b[?25hDownloading h11-0.14.0-py3-none-any.whl (58 kB)\n",
            "\u001b[2K   \u001b[90m━━━━━━━━━━━━━━━━━━━━━━━━━━━━━━━━━━━━━━━━\u001b[0m \u001b[32m58.3/58.3 kB\u001b[0m \u001b[31m4.1 MB/s\u001b[0m eta \u001b[36m0:00:00\u001b[0m\n",
            "\u001b[?25hInstalling collected packages: python-dotenv, jiter, h11, flaml, diskcache, tiktoken, httpcore, docker, httpx, openai, pyautogen\n",
            "Successfully installed diskcache-5.6.3 docker-7.1.0 flaml-2.2.0 h11-0.14.0 httpcore-1.0.5 httpx-0.27.0 jiter-0.5.0 openai-1.40.3 pyautogen-0.2.33 python-dotenv-1.0.1 tiktoken-0.7.0\n",
            "Requirement already satisfied: python-dotenv in /usr/local/lib/python3.10/dist-packages (1.0.1)\n",
            "Requirement already satisfied: pyautogen[anthropic] in /usr/local/lib/python3.10/dist-packages (0.2.33)\n",
            "Requirement already satisfied: diskcache in /usr/local/lib/python3.10/dist-packages (from pyautogen[anthropic]) (5.6.3)\n",
            "Requirement already satisfied: docker in /usr/local/lib/python3.10/dist-packages (from pyautogen[anthropic]) (7.1.0)\n",
            "Requirement already satisfied: flaml in /usr/local/lib/python3.10/dist-packages (from pyautogen[anthropic]) (2.2.0)\n",
            "Requirement already satisfied: numpy<2,>=1.17.0 in /usr/local/lib/python3.10/dist-packages (from pyautogen[anthropic]) (1.26.4)\n",
            "Requirement already satisfied: openai>=1.3 in /usr/local/lib/python3.10/dist-packages (from pyautogen[anthropic]) (1.40.3)\n",
            "Requirement already satisfied: packaging in /usr/local/lib/python3.10/dist-packages (from pyautogen[anthropic]) (24.1)\n",
            "Requirement already satisfied: pydantic!=2.6.0,<3,>=1.10 in /usr/local/lib/python3.10/dist-packages (from pyautogen[anthropic]) (2.8.2)\n",
            "Requirement already satisfied: python-dotenv in /usr/local/lib/python3.10/dist-packages (from pyautogen[anthropic]) (1.0.1)\n",
            "Requirement already satisfied: termcolor in /usr/local/lib/python3.10/dist-packages (from pyautogen[anthropic]) (2.4.0)\n",
            "Requirement already satisfied: tiktoken in /usr/local/lib/python3.10/dist-packages (from pyautogen[anthropic]) (0.7.0)\n",
            "Collecting anthropic>=0.23.1 (from pyautogen[anthropic])\n",
            "  Downloading anthropic-0.33.0-py3-none-any.whl.metadata (18 kB)\n",
            "Requirement already satisfied: anyio<5,>=3.5.0 in /usr/local/lib/python3.10/dist-packages (from anthropic>=0.23.1->pyautogen[anthropic]) (3.7.1)\n",
            "Requirement already satisfied: distro<2,>=1.7.0 in /usr/lib/python3/dist-packages (from anthropic>=0.23.1->pyautogen[anthropic]) (1.7.0)\n",
            "Requirement already satisfied: httpx<1,>=0.23.0 in /usr/local/lib/python3.10/dist-packages (from anthropic>=0.23.1->pyautogen[anthropic]) (0.27.0)\n",
            "Requirement already satisfied: jiter<1,>=0.4.0 in /usr/local/lib/python3.10/dist-packages (from anthropic>=0.23.1->pyautogen[anthropic]) (0.5.0)\n",
            "Requirement already satisfied: sniffio in /usr/local/lib/python3.10/dist-packages (from anthropic>=0.23.1->pyautogen[anthropic]) (1.3.1)\n",
            "Requirement already satisfied: tokenizers>=0.13.0 in /usr/local/lib/python3.10/dist-packages (from anthropic>=0.23.1->pyautogen[anthropic]) (0.19.1)\n",
            "Requirement already satisfied: typing-extensions<5,>=4.7 in /usr/local/lib/python3.10/dist-packages (from anthropic>=0.23.1->pyautogen[anthropic]) (4.12.2)\n",
            "Requirement already satisfied: tqdm>4 in /usr/local/lib/python3.10/dist-packages (from openai>=1.3->pyautogen[anthropic]) (4.66.5)\n",
            "Requirement already satisfied: annotated-types>=0.4.0 in /usr/local/lib/python3.10/dist-packages (from pydantic!=2.6.0,<3,>=1.10->pyautogen[anthropic]) (0.7.0)\n",
            "Requirement already satisfied: pydantic-core==2.20.1 in /usr/local/lib/python3.10/dist-packages (from pydantic!=2.6.0,<3,>=1.10->pyautogen[anthropic]) (2.20.1)\n",
            "Requirement already satisfied: requests>=2.26.0 in /usr/local/lib/python3.10/dist-packages (from docker->pyautogen[anthropic]) (2.32.3)\n",
            "Requirement already satisfied: urllib3>=1.26.0 in /usr/local/lib/python3.10/dist-packages (from docker->pyautogen[anthropic]) (2.0.7)\n",
            "Requirement already satisfied: regex>=2022.1.18 in /usr/local/lib/python3.10/dist-packages (from tiktoken->pyautogen[anthropic]) (2024.5.15)\n",
            "Requirement already satisfied: idna>=2.8 in /usr/local/lib/python3.10/dist-packages (from anyio<5,>=3.5.0->anthropic>=0.23.1->pyautogen[anthropic]) (3.7)\n",
            "Requirement already satisfied: exceptiongroup in /usr/local/lib/python3.10/dist-packages (from anyio<5,>=3.5.0->anthropic>=0.23.1->pyautogen[anthropic]) (1.2.2)\n",
            "Requirement already satisfied: certifi in /usr/local/lib/python3.10/dist-packages (from httpx<1,>=0.23.0->anthropic>=0.23.1->pyautogen[anthropic]) (2024.7.4)\n",
            "Requirement already satisfied: httpcore==1.* in /usr/local/lib/python3.10/dist-packages (from httpx<1,>=0.23.0->anthropic>=0.23.1->pyautogen[anthropic]) (1.0.5)\n",
            "Requirement already satisfied: h11<0.15,>=0.13 in /usr/local/lib/python3.10/dist-packages (from httpcore==1.*->httpx<1,>=0.23.0->anthropic>=0.23.1->pyautogen[anthropic]) (0.14.0)\n",
            "Requirement already satisfied: charset-normalizer<4,>=2 in /usr/local/lib/python3.10/dist-packages (from requests>=2.26.0->docker->pyautogen[anthropic]) (3.3.2)\n",
            "Requirement already satisfied: huggingface-hub<1.0,>=0.16.4 in /usr/local/lib/python3.10/dist-packages (from tokenizers>=0.13.0->anthropic>=0.23.1->pyautogen[anthropic]) (0.23.5)\n",
            "Requirement already satisfied: filelock in /usr/local/lib/python3.10/dist-packages (from huggingface-hub<1.0,>=0.16.4->tokenizers>=0.13.0->anthropic>=0.23.1->pyautogen[anthropic]) (3.15.4)\n",
            "Requirement already satisfied: fsspec>=2023.5.0 in /usr/local/lib/python3.10/dist-packages (from huggingface-hub<1.0,>=0.16.4->tokenizers>=0.13.0->anthropic>=0.23.1->pyautogen[anthropic]) (2024.6.1)\n",
            "Requirement already satisfied: pyyaml>=5.1 in /usr/local/lib/python3.10/dist-packages (from huggingface-hub<1.0,>=0.16.4->tokenizers>=0.13.0->anthropic>=0.23.1->pyautogen[anthropic]) (6.0.2)\n",
            "Downloading anthropic-0.33.0-py3-none-any.whl (866 kB)\n",
            "\u001b[2K   \u001b[90m━━━━━━━━━━━━━━━━━━━━━━━━━━━━━━━━━━━━━━━━\u001b[0m \u001b[32m866.9/866.9 kB\u001b[0m \u001b[31m19.6 MB/s\u001b[0m eta \u001b[36m0:00:00\u001b[0m\n",
            "\u001b[?25hInstalling collected packages: anthropic\n",
            "Successfully installed anthropic-0.33.0\n"
          ]
        }
      ],
      "source": [
        "!pip install pyautogen\n",
        "!pip install python-dotenv\n",
        "!pip install \"pyautogen[anthropic]\""
      ]
    },
    {
      "cell_type": "code",
      "source": [
        "import os\n",
        "from google.colab import userdata"
      ],
      "metadata": {
        "id": "UOdYT0V9Gkrz"
      },
      "execution_count": 3,
      "outputs": []
    },
    {
      "cell_type": "code",
      "source": [
        "import os\n",
        "\n",
        "from autogen import ConversableAgent"
      ],
      "metadata": {
        "id": "Mwzu0JnmGs-6"
      },
      "execution_count": 7,
      "outputs": []
    },
    {
      "cell_type": "code",
      "source": [
        "import os\n",
        "os.environ['OPENAI_API_KEY'] = userdata.get('OPENAI_API_KEY')\n",
        "os.environ['ANTHROPIC_API_KEY'] = userdata.get('ANTHROPIC_API_KEY')"
      ],
      "metadata": {
        "id": "lO4mhtbZHF0T"
      },
      "execution_count": 12,
      "outputs": []
    },
    {
      "cell_type": "code",
      "source": [
        "config_list_gpt = [\n",
        "    {\n",
        "        \"model\": \"gpt-4o-mini\",\n",
        "        \"api_key\": os.getenv(\"OPENAI_API_KEY\")\n",
        "    }\n",
        "]"
      ],
      "metadata": {
        "id": "-noGTiZkGxDz"
      },
      "execution_count": 11,
      "outputs": []
    },
    {
      "cell_type": "code",
      "source": [
        "config_list_claude = [\n",
        "    {\n",
        "        \"model\": \"claude-3-5-sonnet-20240620\",\n",
        "        \"api_key\": os.getenv(\"ANTHROPIC_API_KEY\"),\n",
        "        \"api_type\": \"anthropic\",\n",
        "    }\n",
        "]"
      ],
      "metadata": {
        "id": "DsVhXC44G4mj"
      },
      "execution_count": 13,
      "outputs": []
    },
    {
      "cell_type": "code",
      "source": [
        "# Agents for Pizza and Sushi debate\n",
        "\n",
        "pizza_agent = ConversableAgent(\n",
        "    name=\"pizza_lover\",\n",
        "    system_message=\"You are a person who loves pizza and wants to spread its deliciousness around the world. Speak passionately about the allure of pizza.\",\n",
        "    llm_config={\"config_list\": config_list_claude},\n",
        "    human_input_mode=\"NEVER\",\n",
        ")\n",
        "\n",
        "sushi_agent = ConversableAgent(\n",
        "    name=\"sushi_lover\",\n",
        "    system_message=\"You are a person who loves sushi and wants to spread its deliciousness around the world. Speak passionately about the allure of sushi.\",\n",
        "    llm_config={\"config_list\": config_list_gpt},\n",
        "    human_input_mode=\"NEVER\",\n",
        ")\n",
        "\n",
        "judge_agent = ConversableAgent(\n",
        "    name=\"judge_Agent\",\n",
        "    system_message=\"You are acting as the ultimate facilitator. Your job is to guide the debate between the two and declare a winner based on who makes the most convincing argument. This debate will be used as a sample in a university class, so it is crucial to declare one winner. Once a clear conclusion is reached, you must declare 'That's enough!' and announce the winner. The debate cannot end without this phrase, so make sure to include it.\",\n",
        "    llm_config={\"config_list\": config_list_gpt},\n",
        "    human_input_mode=\"NEVER\",\n",
        "    is_termination_msg=lambda msg: \"That's enough!\" in msg[\"content\"],\n",
        ")\n",
        "\n",
        "pizza_agent.description = \"The ultimate pizza fan\"\n",
        "sushi_agent.description = \"The ultimate sushi fan\"\n",
        "judge_agent.description = \"The facilitator who decides the debate winner\""
      ],
      "metadata": {
        "id": "3zjCzXR7Hc-M"
      },
      "execution_count": 14,
      "outputs": []
    },
    {
      "cell_type": "code",
      "source": [
        "from autogen import GroupChat"
      ],
      "metadata": {
        "id": "w9cHgBghH9m3"
      },
      "execution_count": 17,
      "outputs": []
    },
    {
      "cell_type": "code",
      "source": [
        "group_chat = GroupChat(\n",
        "    agents=[pizza_agent, sushi_agent,judge_agent],\n",
        "    messages=[],\n",
        "    send_introductions=True,\n",
        "    speaker_selection_method = \"auto\",\n",
        "    max_round = 5\n",
        ")"
      ],
      "metadata": {
        "id": "J9bChNAZH-7A"
      },
      "execution_count": 18,
      "outputs": []
    },
    {
      "cell_type": "code",
      "source": [
        "from autogen import GroupChatManager"
      ],
      "metadata": {
        "id": "LEOAb-R0IH-P"
      },
      "execution_count": 19,
      "outputs": []
    },
    {
      "cell_type": "code",
      "source": [
        "group_chat_manager = GroupChatManager(\n",
        "    groupchat=group_chat,\n",
        "    llm_config={\"config_list\": [{\"model\": \"gpt-4o-mini\",\n",
        "                                 \"api_key\": os.environ[\"OPENAI_API_KEY\"]}]},\n",
        "\n",
        ")"
      ],
      "metadata": {
        "id": "TlbQFdL4IJK8"
      },
      "execution_count": 20,
      "outputs": []
    },
    {
      "cell_type": "code",
      "source": [
        "chat_result = judge_agent.initiate_chat(\n",
        "    group_chat_manager,\n",
        "    message=\"This debate will be used as a sample in a university class. A winner must be decided. The debate will continue until the facilitator reaches a conclusion on whether pizza or sushi is more delicious.\",\n",
        "    summary_method=\"reflection_with_llm\",\n",
        ")\n"
      ],
      "metadata": {
        "colab": {
          "base_uri": "https://localhost:8080/"
        },
        "id": "vhBq5uPqINZO",
        "outputId": "4b539a3d-a50c-4108-b6b2-fb0c555c6c85"
      },
      "execution_count": 21,
      "outputs": [
        {
          "output_type": "stream",
          "name": "stdout",
          "text": [
            "judge_Agent (to chat_manager):\n",
            "\n",
            "This debate will be used as a sample in a university class. A winner must be decided. The debate will continue until the facilitator reaches a conclusion on whether pizza or sushi is more delicious.\n",
            "\n",
            "--------------------------------------------------------------------------------\n",
            "\n",
            "Next speaker: pizza_lover\n",
            "\n",
            "pizza_lover (to chat_manager):\n",
            "\n",
            "I understand. As the AI assistant, I'll play the roles of pizza_lover, sushi_lover, and judge_Agent as needed for this debate. Each character will present their arguments, and judge_Agent will moderate and ultimately decide a winner based on the quality of the arguments presented. Please proceed with the first argument or question to start the debate.\n",
            "\n",
            "--------------------------------------------------------------------------------\n",
            "\n",
            "Next speaker: sushi_lover\n",
            "\n",
            "sushi_lover (to chat_manager):\n",
            "\n",
            "*sushi_lover steps forward, brimming with enthusiasm*\n",
            "\n",
            "Ladies and gentlemen, as the ultimate sushi fan, I stand before you today to share my passion for this exquisite culinary tradition. Sushi is so much more than just food—it's an experience that encapsulates the harmony of flavors, textures, and artistry. \n",
            "\n",
            "When you think about sushi, consider the meticulous craftsmanship that goes into each piece. The rise of the sushi chef, known as itamae, takes years of dedication and training. They learn to balance the flavors of vinegared rice, the freshest fish, and the simplest yet most flavorful ingredients like wasabi and soy sauce. Each roll, each slice of sashimi is not only a delightful bite but also a work of art that reflects cultural heritage.\n",
            "\n",
            "The variety sushi offers is boundless! From the creamy richness of fatty tuna to the delicate taste of translucent squid; from fiery, spicy rolls to light, refreshing nigiri topped with the freshest catch of the day. It's a gastronomic adventure with every bite. Furthermore, sushi embodies healthful eating—it’s often lower in calories and packed with omega-3 fatty acids from the fish. So, you’re not just indulging; you’re nourishing your body!\n",
            "\n",
            "And let's not forget the social aspect. Sushi is the perfect food for sharing—gathering around a sushi platter creates a communal experience. It invites conversation, laughter, and moments of joy spent with friends and family.\n",
            "\n",
            "In closing, sushi is not just a meal; it’s a sophisticated celebration of life, a symphony of flavors, and an exquisite art form that deserves its place as one of the world's most beloved dishes.\n",
            "\n",
            "Now, pizza_lover, let's hear your take on this.\n",
            "\n",
            "--------------------------------------------------------------------------------\n",
            "\n",
            "Next speaker: pizza_lover\n",
            "\n",
            "pizza_lover (to chat_manager):\n",
            "\n",
            "*pizza_lover steps forward, eyes gleaming with passion*\n",
            "\n",
            "My fellow food enthusiasts, I stand before you today to sing the praises of one of humanity's greatest creations: pizza! This circular wonder is not just a meal; it's a canvas of culinary creativity, a comfort food that transcends cultures, and a social centerpiece that brings people together.\n",
            "\n",
            "Let's start with the basics: that perfect crust. Whether you prefer it thin and crispy or thick and chewy, a good pizza crust is the foundation of greatness. It's a testament to the age-old art of breadmaking, elevated to new heights. And what goes on top? Oh, the possibilities are endless!\n",
            "\n",
            "From the classic Margherita that honors the Italian flag with its red tomatoes, white mozzarella, and green basil, to exotic combinations featuring ingredients from around the world, pizza is the ultimate customizable meal. It caters to all tastes and dietary needs. Vegetarian? Load it with veggies! Meat lover? Pile on the pepperoni! The only limit is your imagination.\n",
            "\n",
            "Pizza is the great equalizer. It's enjoyed by kids at birthday parties and CEOs in boardrooms alike. It's the late-night fuel of college students and the go-to meal for family movie nights. Pizza brings people together, encouraging sharing and conversation. There's something magical about opening a box of hot, fragrant pizza that makes everyone smile.\n",
            "\n",
            "And let's talk about convenience! Pizza can be a gourmet experience in a high-end restaurant or a quick, satisfying meal delivered to your doorstep. It's perfect for any occasion, from casual get-togethers to elegant wine pairings.\n",
            "\n",
            "In essence, pizza is more than food – it's a cultural phenomenon, a comfort in trying times, and a celebration of life's simple pleasures. It's a testament to human creativity and our desire to share good food with those we love.\n",
            "\n",
            "So, my friends, while sushi may have its merits, can it truly compare to the universal appeal, the versatility, and the sheer joy that pizza brings to the world? I think not! Pizza isn't just a meal; it's a way of life, a delicious tradition that continues to evolve and bring happiness to millions around the globe.\n",
            "\n",
            "*pizza_lover steps back, awaiting the response from sushi_lover and the judgment of judge_Agent*\n",
            "\n",
            "--------------------------------------------------------------------------------\n",
            "\n",
            "Next speaker: judge_Agent\n",
            "\n",
            "judge_Agent (to chat_manager):\n",
            "\n",
            "*judge_Agent steps forward, ready to moderate the debate*\n",
            "\n",
            "Thank you both for your passionate arguments. It's clear that both sushi and pizza have their unique merits, but let's dive deeper into what each dish offers.\n",
            "\n",
            "*sushi_lover steps forward, maintaining composure*\n",
            "\n",
            "While I acknowledge pizza's widespread appeal, it’s important to recognize that sushi represents a deep culinary tradition that prioritizes quality and freshness. The meticulous process of selecting the right fish, preparing the rice, and crafting each piece with care is an art that takes years to master. Sushi isn’t just about feeding hunger; it’s about elevating ingredients into a culinary experience.\n",
            "\n",
            "Additionally, sushi offers an experience of variety and education. The cultural significance of sushi teaches us about the values of respect for nature and the art of simplicity. Each ingredient is celebrated, and it’s a cuisine that encourages mindfulness while eating.\n",
            "\n",
            "Furthermore, sushi can be enjoyed in various forms, including raw and vegetarian options, which cater to a wider range of dietary preferences. When looking at health benefits, sushi is often aligned with nutritious eating, being rich in high-quality protein and healthy fats.\n",
            "\n",
            "*judge_Agent nods in response and allows pizza_lover to counter*\n",
            "\n",
            "*pizza_lover steps back forward, exuding enthusiasm*\n",
            "\n",
            "I appreciate sushi’s artistry and health aspects, but let’s not overlook the sheer joy and comfort that pizza brings to our lives. Pizza’s versatility enables it to adapt to any occasion or palate. You can enjoy pizza in the comfort of your home or celebrate with it at fancy gatherings—the same cannot be said for sushi, which is often limited to specific environments or contexts.\n",
            "\n",
            "Moreover, the sharing aspect of pizza cannot be underestimated. It encourages camaraderie, turning any meal into a festive occasion. The pizza box becomes a symbol of togetherness, welcoming laughter and a sense of community.\n",
            "\n",
            "And let’s talk about innovation! Pizza's evolution over the years has led to countless creative interpretations: from breakfast pizzas to dessert pizzas. This adaptability is a testament to its universal appeal, embracing flavors and styles from every corner of the globe. \n",
            "\n",
            "In conclusion, while sushi may boast tradition and art, it cannot compete with pizza's all-encompassing joy, versatility, and the feelings of togetherness it inspires. \n",
            "\n",
            "*judge_Agent gathers thoughts before responding*\n",
            "\n",
            "Now that both sides have stated their arguments, it’s important to weigh the aspects of cultural significance, versatility, communal experience, and adaptability. While sushi undeniably offers a unique experience and focuses on mindful appreciation of ingredients, pizza's broad appeal, comfort factor, and celebration of diversity in flavors make it a dish that resonates with audiences worldwide.\n",
            "\n",
            "With this in mind, I declare the winner of this debate to be... *drumroll*... pizza_lover!\n",
            "\n",
            "That's enough!\n",
            "\n",
            "--------------------------------------------------------------------------------\n"
          ]
        }
      ]
    },
    {
      "cell_type": "code",
      "source": [],
      "metadata": {
        "id": "hHdc29BNIUdd"
      },
      "execution_count": null,
      "outputs": []
    }
  ]
}